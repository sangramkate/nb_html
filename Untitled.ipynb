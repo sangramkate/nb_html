{
 "cells": [
  {
   "cell_type": "markdown",
   "metadata": {},
   "source": [
    "# Untitled Notebook"
   ]
  },
  {
   "cell_type": "code",
   "execution_count": 2,
   "metadata": {},
   "outputs": [],
   "source": [
    "import numpy as np\n",
    "import pandas as pd\n",
    "from ipywidgets import * \n",
    "import plotly\n",
    "from IPython.display import display"
   ]
  },
  {
   "cell_type": "code",
   "execution_count": 3,
   "metadata": {},
   "outputs": [],
   "source": [
    "df_sel = widgets.Dropdown(\n",
    "        description = \"DF\",\n",
    "        disabled    = False)\n",
    "df_sel.options = [\"df\",\"df2\"]"
   ]
  },
  {
   "cell_type": "code",
   "execution_count": 4,
   "metadata": {},
   "outputs": [],
   "source": [
    "a = np.random.choice(20,20)\n",
    "b = np.random.choice(100,20)\n",
    "c = np.random.choice(1000,20)\n",
    "df = pd.DataFrame({\"Column A\":a,\"Column B\":b,\"Column C\":c})\n",
    "df2 = pd.DataFrame({\"Column A\":a,\"Column B\":b})"
   ]
  },
  {
   "cell_type": "code",
   "execution_count": 5,
   "metadata": {},
   "outputs": [],
   "source": [
    "def print_df(*args):\n",
    "    if df_sel.value == \"df\":\n",
    "        print(df)\n",
    "    else:\n",
    "        print(df2)"
   ]
  },
  {
   "cell_type": "code",
   "execution_count": 6,
   "metadata": {},
   "outputs": [
    {
     "name": "stdout",
     "output_type": "stream",
     "text": [
      "    Column A  Column B  Column C\n",
      "0          4         6        70\n",
      "1         14        71       312\n",
      "2         10        43       291\n",
      "3         16        65       513\n",
      "4         14        16       595\n",
      "5         11        41       355\n",
      "6          9        76       332\n",
      "7         19        24       127\n",
      "8          6        98       621\n",
      "9         18        64       435\n",
      "10        10        22       434\n",
      "11        18        91       777\n",
      "12         4         4       732\n",
      "13        17        72       109\n",
      "14         6        49       745\n",
      "15         0         2       253\n",
      "16        19        75       585\n",
      "17        19        49       970\n",
      "18        17        53        34\n",
      "19        12        74       161\n"
     ]
    },
    {
     "data": {
      "application/vnd.jupyter.widget-view+json": {
       "model_id": "0d398e53d9a54f5eabe507e53d676337",
       "version_major": 2,
       "version_minor": 0
      },
      "text/plain": [
       "VBox(children=(HBox(children=(Dropdown(description='DF', options=('df', 'df2'), value='df'),)),))"
      ]
     },
     "metadata": {},
     "output_type": "display_data"
    }
   ],
   "source": [
    "df_sel.observe(print_df,\"value\")\n",
    "print_df()\n",
    "VBox( [HBox([df_sel]),]\n",
    "    )"
   ]
  }
 ],
 "metadata": {
  "kernelspec": {
   "display_name": "Python 3",
   "language": "python",
   "name": "python3"
  },
  "language_info": {
   "codemirror_mode": {
    "name": "ipython",
    "version": 3
   },
   "file_extension": ".py",
   "mimetype": "text/x-python",
   "name": "python",
   "nbconvert_exporter": "python",
   "pygments_lexer": "ipython3",
   "version": "3.8.3"
  }
 },
 "nbformat": 4,
 "nbformat_minor": 4
}
